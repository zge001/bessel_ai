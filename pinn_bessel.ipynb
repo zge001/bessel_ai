{
 "cells": [
  {
   "cell_type": "code",
   "execution_count": 1,
   "id": "2adc9dcc",
   "metadata": {
    "_cell_guid": "b1076dfc-b9ad-4769-8c92-a6c4dae69d19",
    "_uuid": "8f2839f25d086af736a60e9eeb907d3b93b6e0e5",
    "execution": {
     "iopub.execute_input": "2024-10-17T15:09:18.485373Z",
     "iopub.status.busy": "2024-10-17T15:09:18.484946Z",
     "iopub.status.idle": "2024-10-17T15:09:32.626575Z",
     "shell.execute_reply": "2024-10-17T15:09:32.625593Z"
    },
    "papermill": {
     "duration": 14.148731,
     "end_time": "2024-10-17T15:09:32.629325",
     "exception": false,
     "start_time": "2024-10-17T15:09:18.480594",
     "status": "completed"
    },
    "tags": []
   },
   "outputs": [],
   "source": [
    "import scipy\n",
    "from scipy.special import j0\n",
    "import numpy as np\n",
    "import matplotlib.pyplot as plt\n",
    "import tensorflow as tf\n",
    "from tensorflow import keras\n",
    "from keras import layers"
   ]
  },
  {
   "cell_type": "code",
   "execution_count": 2,
   "id": "ac85d75e",
   "metadata": {
    "execution": {
     "iopub.execute_input": "2024-10-17T15:09:32.637763Z",
     "iopub.status.busy": "2024-10-17T15:09:32.637133Z",
     "iopub.status.idle": "2024-10-17T15:09:32.810084Z",
     "shell.execute_reply": "2024-10-17T15:09:32.808971Z"
    },
    "papermill": {
     "duration": 0.178641,
     "end_time": "2024-10-17T15:09:32.812132",
     "exception": false,
     "start_time": "2024-10-17T15:09:32.633491",
     "status": "completed"
    },
    "tags": []
   },
   "outputs": [
    {
     "data": {
      "text/html": [
       "<pre style=\"white-space:pre;overflow-x:auto;line-height:normal;font-family:Menlo,'DejaVu Sans Mono',consolas,'Courier New',monospace\"><span style=\"font-weight: bold\">Model: \"sequential\"</span>\n",
       "</pre>\n"
      ],
      "text/plain": [
       "\u001b[1mModel: \"sequential\"\u001b[0m\n"
      ]
     },
     "metadata": {},
     "output_type": "display_data"
    },
    {
     "data": {
      "text/html": [
       "<pre style=\"white-space:pre;overflow-x:auto;line-height:normal;font-family:Menlo,'DejaVu Sans Mono',consolas,'Courier New',monospace\">┏━━━━━━━━━━━━━━━━━━━━━━━━━━━━━━━━━┳━━━━━━━━━━━━━━━━━━━━━━━━┳━━━━━━━━━━━━━━━┓\n",
       "┃<span style=\"font-weight: bold\"> Layer (type)                    </span>┃<span style=\"font-weight: bold\"> Output Shape           </span>┃<span style=\"font-weight: bold\">       Param # </span>┃\n",
       "┡━━━━━━━━━━━━━━━━━━━━━━━━━━━━━━━━━╇━━━━━━━━━━━━━━━━━━━━━━━━╇━━━━━━━━━━━━━━━┩\n",
       "│ dense (<span style=\"color: #0087ff; text-decoration-color: #0087ff\">Dense</span>)                   │ (<span style=\"color: #00d7ff; text-decoration-color: #00d7ff\">None</span>, <span style=\"color: #00af00; text-decoration-color: #00af00\">32</span>)             │            <span style=\"color: #00af00; text-decoration-color: #00af00\">64</span> │\n",
       "├─────────────────────────────────┼────────────────────────┼───────────────┤\n",
       "│ dense_1 (<span style=\"color: #0087ff; text-decoration-color: #0087ff\">Dense</span>)                 │ (<span style=\"color: #00d7ff; text-decoration-color: #00d7ff\">None</span>, <span style=\"color: #00af00; text-decoration-color: #00af00\">32</span>)             │         <span style=\"color: #00af00; text-decoration-color: #00af00\">1,056</span> │\n",
       "├─────────────────────────────────┼────────────────────────┼───────────────┤\n",
       "│ dense_2 (<span style=\"color: #0087ff; text-decoration-color: #0087ff\">Dense</span>)                 │ (<span style=\"color: #00d7ff; text-decoration-color: #00d7ff\">None</span>, <span style=\"color: #00af00; text-decoration-color: #00af00\">32</span>)             │         <span style=\"color: #00af00; text-decoration-color: #00af00\">1,056</span> │\n",
       "├─────────────────────────────────┼────────────────────────┼───────────────┤\n",
       "│ dense_3 (<span style=\"color: #0087ff; text-decoration-color: #0087ff\">Dense</span>)                 │ (<span style=\"color: #00d7ff; text-decoration-color: #00d7ff\">None</span>, <span style=\"color: #00af00; text-decoration-color: #00af00\">1</span>)              │            <span style=\"color: #00af00; text-decoration-color: #00af00\">33</span> │\n",
       "└─────────────────────────────────┴────────────────────────┴───────────────┘\n",
       "</pre>\n"
      ],
      "text/plain": [
       "┏━━━━━━━━━━━━━━━━━━━━━━━━━━━━━━━━━┳━━━━━━━━━━━━━━━━━━━━━━━━┳━━━━━━━━━━━━━━━┓\n",
       "┃\u001b[1m \u001b[0m\u001b[1mLayer (type)                   \u001b[0m\u001b[1m \u001b[0m┃\u001b[1m \u001b[0m\u001b[1mOutput Shape          \u001b[0m\u001b[1m \u001b[0m┃\u001b[1m \u001b[0m\u001b[1m      Param #\u001b[0m\u001b[1m \u001b[0m┃\n",
       "┡━━━━━━━━━━━━━━━━━━━━━━━━━━━━━━━━━╇━━━━━━━━━━━━━━━━━━━━━━━━╇━━━━━━━━━━━━━━━┩\n",
       "│ dense (\u001b[38;5;33mDense\u001b[0m)                   │ (\u001b[38;5;45mNone\u001b[0m, \u001b[38;5;34m32\u001b[0m)             │            \u001b[38;5;34m64\u001b[0m │\n",
       "├─────────────────────────────────┼────────────────────────┼───────────────┤\n",
       "│ dense_1 (\u001b[38;5;33mDense\u001b[0m)                 │ (\u001b[38;5;45mNone\u001b[0m, \u001b[38;5;34m32\u001b[0m)             │         \u001b[38;5;34m1,056\u001b[0m │\n",
       "├─────────────────────────────────┼────────────────────────┼───────────────┤\n",
       "│ dense_2 (\u001b[38;5;33mDense\u001b[0m)                 │ (\u001b[38;5;45mNone\u001b[0m, \u001b[38;5;34m32\u001b[0m)             │         \u001b[38;5;34m1,056\u001b[0m │\n",
       "├─────────────────────────────────┼────────────────────────┼───────────────┤\n",
       "│ dense_3 (\u001b[38;5;33mDense\u001b[0m)                 │ (\u001b[38;5;45mNone\u001b[0m, \u001b[38;5;34m1\u001b[0m)              │            \u001b[38;5;34m33\u001b[0m │\n",
       "└─────────────────────────────────┴────────────────────────┴───────────────┘\n"
      ]
     },
     "metadata": {},
     "output_type": "display_data"
    },
    {
     "data": {
      "text/html": [
       "<pre style=\"white-space:pre;overflow-x:auto;line-height:normal;font-family:Menlo,'DejaVu Sans Mono',consolas,'Courier New',monospace\"><span style=\"font-weight: bold\"> Total params: </span><span style=\"color: #00af00; text-decoration-color: #00af00\">2,209</span> (8.63 KB)\n",
       "</pre>\n"
      ],
      "text/plain": [
       "\u001b[1m Total params: \u001b[0m\u001b[38;5;34m2,209\u001b[0m (8.63 KB)\n"
      ]
     },
     "metadata": {},
     "output_type": "display_data"
    },
    {
     "data": {
      "text/html": [
       "<pre style=\"white-space:pre;overflow-x:auto;line-height:normal;font-family:Menlo,'DejaVu Sans Mono',consolas,'Courier New',monospace\"><span style=\"font-weight: bold\"> Trainable params: </span><span style=\"color: #00af00; text-decoration-color: #00af00\">2,209</span> (8.63 KB)\n",
       "</pre>\n"
      ],
      "text/plain": [
       "\u001b[1m Trainable params: \u001b[0m\u001b[38;5;34m2,209\u001b[0m (8.63 KB)\n"
      ]
     },
     "metadata": {},
     "output_type": "display_data"
    },
    {
     "data": {
      "text/html": [
       "<pre style=\"white-space:pre;overflow-x:auto;line-height:normal;font-family:Menlo,'DejaVu Sans Mono',consolas,'Courier New',monospace\"><span style=\"font-weight: bold\"> Non-trainable params: </span><span style=\"color: #00af00; text-decoration-color: #00af00\">0</span> (0.00 B)\n",
       "</pre>\n"
      ],
      "text/plain": [
       "\u001b[1m Non-trainable params: \u001b[0m\u001b[38;5;34m0\u001b[0m (0.00 B)\n"
      ]
     },
     "metadata": {},
     "output_type": "display_data"
    }
   ],
   "source": [
    "n_count = 32\n",
    "act = 'tanh'\n",
    "model = keras.Sequential(\n",
    "    [\n",
    "        layers.Input(shape=(1,)),\n",
    "        layers.Dense(n_count, activation=act),\n",
    "        layers.Dense(n_count, activation=act),\n",
    "        layers.Dense(n_count, activation=act),\n",
    "        layers.Dense(1),\n",
    "    ]\n",
    ")\n",
    "\n",
    "model.summary()"
   ]
  },
  {
   "cell_type": "code",
   "execution_count": 3,
   "id": "483f28df",
   "metadata": {
    "execution": {
     "iopub.execute_input": "2024-10-17T15:09:32.820391Z",
     "iopub.status.busy": "2024-10-17T15:09:32.819600Z",
     "iopub.status.idle": "2024-10-17T15:09:32.837499Z",
     "shell.execute_reply": "2024-10-17T15:09:32.836443Z"
    },
    "papermill": {
     "duration": 0.024657,
     "end_time": "2024-10-17T15:09:32.840011",
     "exception": false,
     "start_time": "2024-10-17T15:09:32.815354",
     "status": "completed"
    },
    "tags": []
   },
   "outputs": [],
   "source": [
    "x_bound = tf.Variable([[0.0]], dtype=tf.float32, trainable=True)\n",
    "x_phys = tf.Variable(np.reshape(np.linspace(0.1, 20., 100), (100, 1)), dtype=tf.float32, trainable=True)\n",
    "x_inn = tf.Variable(np.reshape(np.linspace(0.1, 7.5, 5), (5, 1)), dtype=tf.float32, trainable=True)\n",
    "y_inn = j0(x_inn)"
   ]
  },
  {
   "cell_type": "code",
   "execution_count": 4,
   "id": "3c429160",
   "metadata": {
    "execution": {
     "iopub.execute_input": "2024-10-17T15:09:32.848602Z",
     "iopub.status.busy": "2024-10-17T15:09:32.847451Z",
     "iopub.status.idle": "2024-10-17T15:54:45.306775Z",
     "shell.execute_reply": "2024-10-17T15:54:45.305457Z"
    },
    "papermill": {
     "duration": 2712.466484,
     "end_time": "2024-10-17T15:54:45.309790",
     "exception": false,
     "start_time": "2024-10-17T15:09:32.843306",
     "status": "completed"
    },
    "tags": []
   },
   "outputs": [
    {
     "name": "stdout",
     "output_type": "stream",
     "text": [
      "Epoch 0, loss: [[4.744773]]\n",
      "Epoch 5000, loss: [[0.01059011]]\n",
      "Epoch 10000, loss: [[0.02023024]]\n",
      "Epoch 15000, loss: [[0.00663192]]\n",
      "Epoch 20000, loss: [[0.00624291]]\n",
      "Epoch 25000, loss: [[0.00532612]]\n",
      "Epoch 30000, loss: [[0.00170831]]\n"
     ]
    }
   ],
   "source": [
    "epochs = 70_000\n",
    "opt = tf.keras.optimizers.Adam(learning_rate=1e-3)\n",
    "\n",
    "for i in range(epochs + 1):\n",
    "    with tf.GradientTape(persistent=True) as tape:\n",
    "        with tf.GradientTape() as tape1:\n",
    "            y_0 = model(x_bound, training=True)\n",
    "            dy_0 = tape1.gradient(y_0, x_bound)\n",
    "            bc_1 = tf.square(dy_0)\n",
    "\n",
    "        with tf.GradientTape() as tape2:\n",
    "            y_0 = model(x_phys, training=True)\n",
    "            dy_0 = tape2.gradient(y_0, x_phys)\n",
    "            d2y_0 = tape.gradient(dy_0, x_phys)\n",
    "            phys_loss = tf.reduce_mean(tf.square(x_phys ** 2 * d2y_0 + x_phys * dy_0 + x_phys ** 2 * y_0), axis=0)\n",
    "\n",
    "        y_0 = model(x_bound)\n",
    "        bound_loss = tf.square(y_0 - 1.)\n",
    "        \n",
    "        y = model(x_inn)\n",
    "        inn_loss = tf.reduce_mean(tf.square(y - y_inn), axis=0)\n",
    "        \n",
    "        loss = bound_loss + bc_1 + 1e-3 * phys_loss + inn_loss\n",
    "        \n",
    "    gradients = tape.gradient(loss, model.trainable_variables)\n",
    "    opt.apply_gradients(zip(gradients, model.trainable_variables))\n",
    "        \n",
    "    del tape\n",
    "    \n",
    "    if i % 5000 == 0:\n",
    "        print(f\"Epoch {i}, loss: {loss}\")\n",
    "    if loss <= 1e-5:\n",
    "        break\n",
    "            "
   ]
  },
  {
   "cell_type": "code",
   "execution_count": 5,
   "id": "7da38446",
   "metadata": {
    "execution": {
     "iopub.execute_input": "2024-10-17T15:54:45.319702Z",
     "iopub.status.busy": "2024-10-17T15:54:45.319274Z",
     "iopub.status.idle": "2024-10-17T15:54:45.324413Z",
     "shell.execute_reply": "2024-10-17T15:54:45.323383Z"
    },
    "papermill": {
     "duration": 0.012681,
     "end_time": "2024-10-17T15:54:45.326636",
     "exception": false,
     "start_time": "2024-10-17T15:54:45.313955",
     "status": "completed"
    },
    "tags": []
   },
   "outputs": [],
   "source": [
    "x_real = np.linspace(0., 20., 100)\n",
    "y_real = j0(x_real)"
   ]
  },
  {
   "cell_type": "code",
   "execution_count": 6,
   "id": "9238bc7f",
   "metadata": {
    "execution": {
     "iopub.execute_input": "2024-10-17T15:54:45.335575Z",
     "iopub.status.busy": "2024-10-17T15:54:45.335205Z",
     "iopub.status.idle": "2024-10-17T15:54:45.715332Z",
     "shell.execute_reply": "2024-10-17T15:54:45.714217Z"
    },
    "papermill": {
     "duration": 0.387209,
     "end_time": "2024-10-17T15:54:45.717638",
     "exception": false,
     "start_time": "2024-10-17T15:54:45.330429",
     "status": "completed"
    },
    "tags": []
   },
   "outputs": [
    {
     "data": {
      "image/png": "[encoded data removed]",
      "text/plain": [
       "<Figure size 640x480 with 1 Axes>"
      ]
     },
     "metadata": {},
     "output_type": "display_data"
    }
   ],
   "source": [
    "\n",
    "plt.plot(x_real, y_real)\n",
    "plt.plot(x_real, model(x_real))\n",
    "plt.scatter(x_phys, [0] * x_phys.shape[0], color=\"green\", s=1, zorder=3)\n",
    "plt.scatter(x_bound, j0(x_bound), color=\"red\", s=3, zorder=3)\n",
    "plt.scatter(x_inn, j0(x_inn), color=\"magenta\", s=3, zorder=3)\n",
    "plt.title(\"Bessel's function of order 0\")\n",
    "plt.show()"
   ]
  }
 ],
 "metadata": {
  "kaggle": {
   "accelerator": "none",
   "dataSources": [],
   "dockerImageVersionId": 30786,
   "isGpuEnabled": false,
   "isInternetEnabled": true,
   "language": "python",
   "sourceType": "notebook"
  },
  "kernelspec": {
   "display_name": "Python 3",
   "language": "python",
   "name": "python3"
  },
  "language_info": {
   "codemirror_mode": {
    "name": "ipython",
    "version": 3
   },
   "file_extension": ".py",
   "mimetype": "text/x-python",
   "name": "python",
   "nbconvert_exporter": "python",
   "pygments_lexer": "ipython3",
   "version": "3.10.14"
  },
  "papermill": {
   "default_parameters": {},
   "duration": 2731.32939,
   "end_time": "2024-10-17T15:54:47.145194",
   "environment_variables": {},
   "exception": null,
   "input_path": "__notebook__.ipynb",
   "output_path": "__notebook__.ipynb",
   "parameters": {},
   "start_time": "2024-10-17T15:09:15.815804",
   "version": "2.6.0"
  }
 },
 "nbformat": 4,
 "nbformat_minor": 5
}
